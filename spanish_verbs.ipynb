{
 "cells": [
  {
   "cell_type": "markdown",
   "metadata": {},
   "source": [
    "# Spanish Verb Scraper"
   ]
  },
  {
   "cell_type": "markdown",
   "metadata": {},
   "source": [
    "## Objectives\n",
    "- Extract Verbs from webpage\n",
    "- Create a List that combines all verbs from differents urls\n",
    "- reshape list to create arrays\n",
    "- using random to fetch random verbs from arrays"
   ]
  },
  {
   "cell_type": "code",
   "execution_count": 9,
   "metadata": {},
   "outputs": [],
   "source": [
    "# Import necessary libraries\n",
    "\n",
    "from bs4 import BeautifulSoup\n",
    "import requests\n",
    "import random\n"
   ]
  },
  {
   "cell_type": "code",
   "execution_count": 15,
   "metadata": {},
   "outputs": [],
   "source": [
    "from selenium import webdriver\n",
    "from selenium.webdriver.chrome.service import Service\n",
    "from selenium.webdriver.common.by import By\n",
    "from webdriver_manager.chrome import ChromeDriverManager\n",
    "from selenium.common import exceptions"
   ]
  },
  {
   "cell_type": "markdown",
   "metadata": {},
   "source": [
    "## Extract Verbs from webpage"
   ]
  },
  {
   "cell_type": "code",
   "execution_count": 77,
   "metadata": {},
   "outputs": [],
   "source": [
    "def scraper(url):\n",
    "    # access to web page using requests lib\n",
    "\n",
    "    service = Service(ChromeDriverManager().install()) \n",
    "\n",
    "    # we will use webdriver from selenuim to get the content from the web \n",
    "    driver = webdriver.Chrome(service=service) \n",
    "    response = driver.get(url)\n",
    "    \n",
    "    return driver.page_source\n",
    "\n"
   ]
  },
  {
   "cell_type": "code",
   "execution_count": 78,
   "metadata": {},
   "outputs": [
    {
     "data": {
      "text/plain": [
       "'2000 verbos populares en español en conjugador reverso ( dale clic a los vínculos)  | Verbling'"
      ]
     },
     "execution_count": 78,
     "metadata": {},
     "output_type": "execute_result"
    }
   ],
   "source": [
    "# Create soup to put in our html content\n",
    "url = 'https://www.verbling.com/fr/discussion/2000-verbos-populares-en-espanol-en-conjugador-reverso-dale-'\n",
    "soup = BeautifulSoup(scraper(url), 'html.parser')\n",
    "title = soup.title.text.strip()\n",
    "title "
   ]
  },
  {
   "cell_type": "code",
   "execution_count": 79,
   "metadata": {},
   "outputs": [
    {
     "name": "stdout",
     "output_type": "stream",
     "text": [
      "https://conjugador.reverso.net/index-espanol-1-250.html\n",
      "https://conjugador.reverso.net/index-espanol-251-500.html\n",
      "https://conjugador.reverso.net/index-espanol-501-750.html\n",
      "https://conjugador.reverso.net/index-espanol-751-1000.html\n",
      "https://conjugador.reverso.net/index-espanol-1001-1250.html\n",
      "https://conjugador.reverso.net/index-espanol-1251-1500.html\n",
      "https://conjugador.reverso.net/index-espanol-1501-1750.html\n",
      "https://conjugador.reverso.net/index-espanol-1751-2000.html\n"
     ]
    }
   ],
   "source": [
    "# Obtain all urls that contain our verbs and store them in a list\n",
    "a = soup.find_all('a', attrs={'rel':'nofollow noopener noreferrer'})\n",
    "urls = []\n",
    "for url in a :\n",
    "    print(url.get('href'))\n",
    "    urls.append(url.get('href'))"
   ]
  },
  {
   "cell_type": "code",
   "execution_count": 81,
   "metadata": {},
   "outputs": [
    {
     "name": "stdout",
     "output_type": "stream",
     "text": [
      "Verbos más usados en Español desde ser hasta cortar | Conjugador Reverso\n",
      "Verbos más usados en Español desde vigilar hasta reafirmar | Conjugador Reverso\n",
      "Verbos más usados en Español desde dañar hasta liderar | Conjugador Reverso\n",
      "Verbos más usados en Español desde rehabilitar hasta acuñar | Conjugador Reverso\n",
      "Verbos más usados en Español desde transportar hasta contabilizar | Conjugador Reverso\n",
      "Verbos más usados en Español desde saquear hasta aludir | Conjugador Reverso\n",
      "Verbos más usados en Español desde embalar hasta atemorizar | Conjugador Reverso\n",
      "Verbos más usados en Español desde atrasar hasta precautelar | Conjugador Reverso\n"
     ]
    }
   ],
   "source": [
    "for url in urls:\n",
    "    soup = BeautifulSoup(scraper(url), 'html.parser')\n",
    "    title = soup.title\n",
    "    if title is not None :\n",
    "        print(title.text.strip())\n"
   ]
  },
  {
   "cell_type": "code",
   "execution_count": null,
   "metadata": {},
   "outputs": [],
   "source": []
  }
 ],
 "metadata": {
  "kernelspec": {
   "display_name": "Python 3",
   "language": "python",
   "name": "python3"
  },
  "language_info": {
   "codemirror_mode": {
    "name": "ipython",
    "version": 3
   },
   "file_extension": ".py",
   "mimetype": "text/x-python",
   "name": "python",
   "nbconvert_exporter": "python",
   "pygments_lexer": "ipython3",
   "version": "3.12.4"
  }
 },
 "nbformat": 4,
 "nbformat_minor": 2
}
